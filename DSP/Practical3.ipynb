{
 "cells": [
  {
   "cell_type": "code",
   "id": "initial_id",
   "metadata": {
    "collapsed": true,
    "jupyter": {
     "is_executing": true
    }
   },
   "source": [
    "# Prac3\n",
    "import math as m\n",
    "# a) Create a class Circle , include methods to calculate area and circumference\n",
    "#  of Circle\n",
    "\n",
    "class Circle :\n",
    "    def __init__(self , radius):\n",
    "        self.radius = radius\n",
    "\n",
    "\n",
    "\n",
    "    def area(self):\n",
    "        print(\"The area of the Circle : \" , m.pi*self.radius**2)\n",
    "\n",
    "    def circum(self):\n",
    "        print(\"The circumference of the circle is : \" , 2*m.pi*self.radius)\n",
    "\n",
    "r = int(input(\"Enter the Radius of the circle : \"))\n",
    "c1 = Circle(r)"
   ],
   "outputs": [],
   "execution_count": null
  },
  {
   "metadata": {},
   "cell_type": "code",
   "outputs": [],
   "execution_count": null,
   "source": [
    "c1.area()\n",
    "c1.circum()"
   ],
   "id": "a1c6a858324b5046"
  }
 ],
 "metadata": {
  "kernelspec": {
   "display_name": "Python 3",
   "language": "python",
   "name": "python3"
  },
  "language_info": {
   "codemirror_mode": {
    "name": "ipython",
    "version": 2
   },
   "file_extension": ".py",
   "mimetype": "text/x-python",
   "name": "python",
   "nbconvert_exporter": "python",
   "pygments_lexer": "ipython2",
   "version": "2.7.6"
  }
 },
 "nbformat": 4,
 "nbformat_minor": 5
}
